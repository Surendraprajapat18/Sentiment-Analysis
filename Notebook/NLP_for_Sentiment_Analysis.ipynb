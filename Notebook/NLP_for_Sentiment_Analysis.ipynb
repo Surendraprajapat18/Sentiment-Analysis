{
  "cells": [
    {
      "cell_type": "markdown",
      "metadata": {
        "id": "Ei4oOGiHbPMQ"
      },
      "source": [
        "## Import necessary libraries"
      ]
    },
    {
      "cell_type": "code",
      "execution_count": 1,
      "metadata": {
        "execution": {
          "iopub.execute_input": "2024-03-23T13:04:45.219131Z",
          "iopub.status.busy": "2024-03-23T13:04:45.218686Z",
          "iopub.status.idle": "2024-03-23T13:05:05.050519Z",
          "shell.execute_reply": "2024-03-23T13:05:05.049301Z",
          "shell.execute_reply.started": "2024-03-23T13:04:45.21909Z"
        },
        "id": "jVRCGihFbPMV",
        "trusted": true
      },
      "outputs": [
        {
          "name": "stdout",
          "output_type": "stream",
          "text": [
            "WARNING:tensorflow:From c:\\Python311\\Lib\\site-packages\\keras\\src\\losses.py:2976: The name tf.losses.sparse_softmax_cross_entropy is deprecated. Please use tf.compat.v1.losses.sparse_softmax_cross_entropy instead.\n",
            "\n"
          ]
        }
      ],
      "source": [
        "import numpy as np\n",
        "import pandas as pd\n",
        "import matplotlib.pyplot as plt\n",
        "import seaborn as sns\n",
        "from sklearn.model_selection import train_test_split  # For splitting data into train and test sets\n",
        "from sklearn.feature_extraction.text import TfidfVectorizer  # For TF-IDF vectorization\n",
        "from sklearn.linear_model import LogisticRegression  # For logistic regression classifier\n",
        "from sklearn.metrics import accuracy_score, f1_score, precision_score  # For evaluation metrics\n",
        "\n",
        "import re\n",
        "import string\n",
        "\n",
        "import nltk  # Natural Language Toolkit, a library for natural language processing tasks.\n",
        "from nltk.corpus import wordnet  # WordNet is a lexical database for English, used for synonym resolution and more.\n",
        "from nltk.stem import WordNetLemmatizer  # Lemmatization is the process of reducing words to their base or root form.\n",
        "from nltk.stem.porter import PorterStemmer  # Stemming is the process of reducing words to their stem or root form.\n",
        "from nltk.corpus import stopwords  # Stopwords are common words that are often filtered out in natural language processing tasks.\n",
        "from textblob import TextBlob  # TextBlob is a simple library for processing textual data.\n",
        "\n",
        "from tqdm import tqdm\n",
        "\n",
        "import contractions # Contractions library expands contractions in English text, e.g., \"won't\" to \"will not\".\n",
        "\n",
        "import joblib"
      ]
    },
    {
      "cell_type": "code",
      "execution_count": 6,
      "metadata": {
        "colab": {
          "base_uri": "https://localhost:8080/",
          "height": 206
        },
        "execution": {
          "iopub.execute_input": "2024-03-23T13:05:05.054827Z",
          "iopub.status.busy": "2024-03-23T13:05:05.053711Z",
          "iopub.status.idle": "2024-03-23T13:05:05.176093Z",
          "shell.execute_reply": "2024-03-23T13:05:05.174402Z",
          "shell.execute_reply.started": "2024-03-23T13:05:05.054774Z"
        },
        "id": "i8989z-0bPMW",
        "outputId": "b4126b76-0a6f-482d-ffe2-2b1f29b905ac",
        "trusted": true
      },
      "outputs": [
        {
          "data": {
            "text/html": [
              "<div>\n",
              "<style scoped>\n",
              "    .dataframe tbody tr th:only-of-type {\n",
              "        vertical-align: middle;\n",
              "    }\n",
              "\n",
              "    .dataframe tbody tr th {\n",
              "        vertical-align: top;\n",
              "    }\n",
              "\n",
              "    .dataframe thead th {\n",
              "        text-align: right;\n",
              "    }\n",
              "</style>\n",
              "<table border=\"1\" class=\"dataframe\">\n",
              "  <thead>\n",
              "    <tr style=\"text-align: right;\">\n",
              "      <th></th>\n",
              "      <th>Unnamed: 0</th>\n",
              "      <th>comment</th>\n",
              "      <th>label</th>\n",
              "    </tr>\n",
              "  </thead>\n",
              "  <tbody>\n",
              "    <tr>\n",
              "      <th>0</th>\n",
              "      <td>1</td>\n",
              "      <td>dalits are lowlives</td>\n",
              "      <td>N</td>\n",
              "    </tr>\n",
              "    <tr>\n",
              "      <th>1</th>\n",
              "      <td>2</td>\n",
              "      <td>gay people are a burden to our society</td>\n",
              "      <td>N</td>\n",
              "    </tr>\n",
              "    <tr>\n",
              "      <th>2</th>\n",
              "      <td>3</td>\n",
              "      <td>Arabs are not welcome</td>\n",
              "      <td>N</td>\n",
              "    </tr>\n",
              "    <tr>\n",
              "      <th>3</th>\n",
              "      <td>4</td>\n",
              "      <td>I'm not saying we should actually eliminate he...</td>\n",
              "      <td>N</td>\n",
              "    </tr>\n",
              "    <tr>\n",
              "      <th>4</th>\n",
              "      <td>5</td>\n",
              "      <td>bananas are for black people</td>\n",
              "      <td>N</td>\n",
              "    </tr>\n",
              "  </tbody>\n",
              "</table>\n",
              "</div>"
            ],
            "text/plain": [
              "   Unnamed: 0                                            comment label\n",
              "0           1                                dalits are lowlives     N\n",
              "1           2             gay people are a burden to our society     N\n",
              "2           3                              Arabs are not welcome     N\n",
              "3           4  I'm not saying we should actually eliminate he...     N\n",
              "4           5                       bananas are for black people     N"
            ]
          },
          "execution_count": 6,
          "metadata": {},
          "output_type": "execute_result"
        }
      ],
      "source": [
        "# Specify the encoding explicitly when reading the CSV file\n",
        "df = pd.read_csv(r\"C:\\Users\\suren\\Downloads\\NLP for Sentiment Analysis\\Dataset\\hate.csv\", encoding='latin1')\n",
        "\n",
        "# Display the first five rows of the DataFrame\n",
        "df.head()"
      ]
    },
    {
      "cell_type": "code",
      "execution_count": 7,
      "metadata": {
        "execution": {
          "iopub.execute_input": "2024-03-23T13:05:05.180302Z",
          "iopub.status.busy": "2024-03-23T13:05:05.179902Z",
          "iopub.status.idle": "2024-03-23T13:05:05.188484Z",
          "shell.execute_reply": "2024-03-23T13:05:05.187137Z",
          "shell.execute_reply.started": "2024-03-23T13:05:05.180268Z"
        },
        "id": "txGBmWEWbPMX",
        "trusted": true
      },
      "outputs": [],
      "source": [
        "# drop \"Unnamed: 0\" column\n",
        "df = df.drop(\"Unnamed: 0\", axis=1)"
      ]
    },
    {
      "cell_type": "code",
      "execution_count": 8,
      "metadata": {
        "colab": {
          "base_uri": "https://localhost:8080/",
          "height": 206
        },
        "id": "Wq0JPfe88XbG",
        "outputId": "f7d35929-d97b-42ae-ba2e-0c717440ebff"
      },
      "outputs": [
        {
          "data": {
            "text/html": [
              "<div>\n",
              "<style scoped>\n",
              "    .dataframe tbody tr th:only-of-type {\n",
              "        vertical-align: middle;\n",
              "    }\n",
              "\n",
              "    .dataframe tbody tr th {\n",
              "        vertical-align: top;\n",
              "    }\n",
              "\n",
              "    .dataframe thead th {\n",
              "        text-align: right;\n",
              "    }\n",
              "</style>\n",
              "<table border=\"1\" class=\"dataframe\">\n",
              "  <thead>\n",
              "    <tr style=\"text-align: right;\">\n",
              "      <th></th>\n",
              "      <th>comment</th>\n",
              "      <th>label</th>\n",
              "    </tr>\n",
              "  </thead>\n",
              "  <tbody>\n",
              "    <tr>\n",
              "      <th>0</th>\n",
              "      <td>dalits are lowlives</td>\n",
              "      <td>N</td>\n",
              "    </tr>\n",
              "    <tr>\n",
              "      <th>1</th>\n",
              "      <td>gay people are a burden to our society</td>\n",
              "      <td>N</td>\n",
              "    </tr>\n",
              "    <tr>\n",
              "      <th>2</th>\n",
              "      <td>Arabs are not welcome</td>\n",
              "      <td>N</td>\n",
              "    </tr>\n",
              "    <tr>\n",
              "      <th>3</th>\n",
              "      <td>I'm not saying we should actually eliminate he...</td>\n",
              "      <td>N</td>\n",
              "    </tr>\n",
              "    <tr>\n",
              "      <th>4</th>\n",
              "      <td>bananas are for black people</td>\n",
              "      <td>N</td>\n",
              "    </tr>\n",
              "  </tbody>\n",
              "</table>\n",
              "</div>"
            ],
            "text/plain": [
              "                                             comment label\n",
              "0                                dalits are lowlives     N\n",
              "1             gay people are a burden to our society     N\n",
              "2                              Arabs are not welcome     N\n",
              "3  I'm not saying we should actually eliminate he...     N\n",
              "4                       bananas are for black people     N"
            ]
          },
          "execution_count": 8,
          "metadata": {},
          "output_type": "execute_result"
        }
      ],
      "source": [
        "# Display the first five rows of the DataFrame\n",
        "df.head()"
      ]
    },
    {
      "cell_type": "code",
      "execution_count": 9,
      "metadata": {
        "colab": {
          "base_uri": "https://localhost:8080/"
        },
        "execution": {
          "iopub.execute_input": "2024-03-23T13:05:05.190398Z",
          "iopub.status.busy": "2024-03-23T13:05:05.190032Z",
          "iopub.status.idle": "2024-03-23T13:05:05.207255Z",
          "shell.execute_reply": "2024-03-23T13:05:05.205918Z",
          "shell.execute_reply.started": "2024-03-23T13:05:05.19037Z"
        },
        "id": "jwEOTeV3bPMZ",
        "outputId": "021dea53-426b-47db-bd5e-7cc4280336c0",
        "trusted": true
      },
      "outputs": [
        {
          "data": {
            "text/plain": [
              "(41144, 2)"
            ]
          },
          "execution_count": 9,
          "metadata": {},
          "output_type": "execute_result"
        }
      ],
      "source": [
        "# diplay the shape of dataset (row & column)\n",
        "df.shape"
      ]
    },
    {
      "cell_type": "markdown",
      "metadata": {
        "id": "1SfrD9zobPMa"
      },
      "source": [
        "### Dataset have:\n",
        "*     2: columns  \n",
        "*     41144: rows"
      ]
    },
    {
      "cell_type": "code",
      "execution_count": 10,
      "metadata": {
        "colab": {
          "base_uri": "https://localhost:8080/"
        },
        "execution": {
          "iopub.execute_input": "2024-03-23T13:05:05.209948Z",
          "iopub.status.busy": "2024-03-23T13:05:05.209391Z",
          "iopub.status.idle": "2024-03-23T13:05:05.22534Z",
          "shell.execute_reply": "2024-03-23T13:05:05.223723Z",
          "shell.execute_reply.started": "2024-03-23T13:05:05.209883Z"
        },
        "id": "LmxfyVAcbPMa",
        "outputId": "fd8e6132-a85b-4ec7-aef5-7315fe7e2242",
        "trusted": true
      },
      "outputs": [
        {
          "data": {
            "text/plain": [
              "array(['N', 'P', 'O'], dtype=object)"
            ]
          },
          "execution_count": 10,
          "metadata": {},
          "output_type": "execute_result"
        }
      ],
      "source": [
        "# checking the unique label from label column\n",
        "df['label'].unique()"
      ]
    },
    {
      "cell_type": "markdown",
      "metadata": {
        "id": "2sqA0t8pbPMc"
      },
      "source": [
        "### Dataset have three Sentiment:\n",
        "* N: Negative Sentiment\n",
        "* P: Positive Sentiment\n",
        "* O: Neutral Sentiment"
      ]
    },
    {
      "cell_type": "markdown",
      "metadata": {
        "id": "KCcqKs71bPMc"
      },
      "source": [
        "## EDA & Data Preprocessing"
      ]
    },
    {
      "cell_type": "code",
      "execution_count": 11,
      "metadata": {
        "colab": {
          "base_uri": "https://localhost:8080/",
          "height": 430
        },
        "execution": {
          "iopub.execute_input": "2024-03-23T13:05:05.227586Z",
          "iopub.status.busy": "2024-03-23T13:05:05.227206Z",
          "iopub.status.idle": "2024-03-23T13:05:05.486226Z",
          "shell.execute_reply": "2024-03-23T13:05:05.484885Z",
          "shell.execute_reply.started": "2024-03-23T13:05:05.227554Z"
        },
        "id": "sEybUUwubPMc",
        "outputId": "9dbdbb7e-0979-4caf-fa38-848f9313a843",
        "trusted": true
      },
      "outputs": [
        {
          "data": {
            "image/png": "[encoded data removed]",
            "text/plain": [
              "<Figure size 640x480 with 1 Axes>"
            ]
          },
          "metadata": {},
          "output_type": "display_data"
        }
      ],
      "source": [
        "# Plot the value counts as a bar plot\n",
        "ax = df['label'].value_counts().plot(kind='bar', color=sns.color_palette('pastel'))\n",
        "\n",
        "# Add count annotations on top of each bar\n",
        "for p in ax.patches:\n",
        "    ax.text(p.get_x() + p.get_width() / 2., p.get_height(), f'{p.get_height()}', ha='center', va='bottom')\n",
        "\n",
        "# Set the x-tick labels\n",
        "plt.xticks([0, 1, 2], ['Negative', 'Positive', 'Neutral'], rotation=0)\n",
        "\n",
        "# Show the plot\n",
        "plt.show()"
      ]
    },
    {
      "cell_type": "markdown",
      "metadata": {
        "id": "BA0eIyTsdzpy"
      },
      "source": [
        "**Dataset have: **\n",
        "* **22158**: Negative sentiment\n",
        "* **18950**: Positive sentiment\n",
        "* **36**: Neutral sentiment"
      ]
    },
    {
      "cell_type": "code",
      "execution_count": 12,
      "metadata": {
        "colab": {
          "base_uri": "https://localhost:8080/"
        },
        "execution": {
          "iopub.execute_input": "2024-03-23T13:05:05.489053Z",
          "iopub.status.busy": "2024-03-23T13:05:05.488551Z",
          "iopub.status.idle": "2024-03-23T13:05:05.733648Z",
          "shell.execute_reply": "2024-03-23T13:05:05.732366Z",
          "shell.execute_reply.started": "2024-03-23T13:05:05.489007Z"
        },
        "id": "eRms4SiObPMf",
        "outputId": "599a58e9-aa70-4674-ab54-6da8b886bd4a",
        "trusted": true
      },
      "outputs": [
        {
          "name": "stderr",
          "output_type": "stream",
          "text": [
            "[nltk_data] Downloading package words to\n",
            "[nltk_data]     C:\\Users\\suren\\AppData\\Roaming\\nltk_data...\n",
            "[nltk_data]   Package words is already up-to-date!\n"
          ]
        }
      ],
      "source": [
        "nltk.download('words')\n",
        "only_english = set(nltk.corpus.words.words())\n",
        "\n",
        "# Define a function to clean the text\n",
        "def clean_text(text):\n",
        "    # Convert the text to lowercase\n",
        "    sample = text.lower()\n",
        "\n",
        "    # Remove URLs\n",
        "    sample = re.sub(r\"\\S*https?:\\S*\", '', sample)\n",
        "\n",
        "    # Remove text between square brackets\n",
        "    sample = re.sub('\\[.*?\\]', '', sample)\n",
        "\n",
        "    # Remove text between parenthesis\n",
        "    sample = re.sub('\\(.*?\\)', '', sample)\n",
        "\n",
        "    # Remove hashtags\n",
        "    sample = re.sub('#', ' ', sample)\n",
        "\n",
        "    # Remove mentions with '@'\n",
        "    sample = ' '.join([x for x in sample.split() if not x.startswith('@')])\n",
        "\n",
        "    # Fix contractions like \"you're\" to \"you are\"\n",
        "    sample = \" \".join([contractions.fix(x) for x in sample.split()])\n",
        "\n",
        "    # Remove punctuations\n",
        "    sample = re.sub('[%s]' % re.escape(string.punctuation), ' ', sample)\n",
        "\n",
        "    # Remove digits with trailing or preceding text\n",
        "    sample = re.sub('\\w*\\d\\w', '', sample)\n",
        "\n",
        "    # Remove new line characters\n",
        "    sample = re.sub(r'\\n', ' ', sample)\n",
        "    sample = re.sub(r'\\\\n', ' ', sample)\n",
        "\n",
        "    # Remove quotation marks\n",
        "    sample = re.sub(\"[''\"\"...“”‘’…]\", '', sample)\n",
        "\n",
        "    sample = \" \".join(x.strip() for x in sample.split())\n",
        "\n",
        "    # Remove HTML attributes\n",
        "    sample = re.sub(r', /<[^>]+>/', '', sample)\n",
        "\n",
        "    # Remove languages other than English\n",
        "    sample = ' '.join(list(filter(lambda ele: re.search(\"[a-zA-Z\\s]+\", ele) is not None, sample.split())))\n",
        "\n",
        "    # Remove emojis and symbols\n",
        "    sample = re.compile(\"[\"\n",
        "                               u\"\\U0001F600-\\U0001F64F\"  # emoticons\n",
        "                               u\"\\U0001F300-\\U0001F5FF\"  # symbols & pictographs\n",
        "                               u\"\\U0001F680-\\U0001F6FF\"  # transport & map symbols\n",
        "                               u\"\\U0001F1E0-\\U0001F1FF\"  # flags (iOS)\n",
        "                               u\"\\U00002500-\\U00002BEF\"  # chinese char\n",
        "                               u\"\\U00002702-\\U000027B0\"\n",
        "                               u\"\\U00002702-\\U000027B0\"\n",
        "                               u\"\\U000024C2-\\U0001F251\"\n",
        "                               u\"\\U0001f926-\\U0001f937\"\n",
        "                               u\"\\U00010000-\\U0010ffff\"\n",
        "                               u\"\\u2640-\\u2642\"\n",
        "                               u\"\\u2600-\\u2B55\"\n",
        "                               u\"\\u200d\"\n",
        "                               u\"\\u23cf\"\n",
        "                               u\"\\u23e9\"\n",
        "                               u\"\\u231a\"\n",
        "                               u\"\\ufe0f\"  # dingbats\n",
        "                               u\"\\u3030\"\n",
        "                               \"]+\", flags=re.UNICODE).sub(r'', sample)\n",
        "\n",
        "    sample = sample.strip()\n",
        "\n",
        "    sample = \" \".join([x.strip() for x in sample.split()])\n",
        "\n",
        "    return sample"
      ]
    },
    {
      "cell_type": "code",
      "execution_count": 13,
      "metadata": {
        "execution": {
          "iopub.execute_input": "2024-03-23T13:05:05.736557Z",
          "iopub.status.busy": "2024-03-23T13:05:05.735372Z",
          "iopub.status.idle": "2024-03-23T13:05:17.380065Z",
          "shell.execute_reply": "2024-03-23T13:05:17.37867Z",
          "shell.execute_reply.started": "2024-03-23T13:05:05.73651Z"
        },
        "id": "nMu05SyzbPMh",
        "trusted": true
      },
      "outputs": [],
      "source": [
        "# Apply clean_text function to each comment in the 'comment' column and create a new column 'cleaned_comment'\n",
        "df['cleaned_comment'] = df['comment'].apply(lambda x: clean_text(str(x)))"
      ]
    },
    {
      "cell_type": "code",
      "execution_count": 14,
      "metadata": {
        "colab": {
          "base_uri": "https://localhost:8080/",
          "height": 206
        },
        "execution": {
          "iopub.execute_input": "2024-03-23T13:05:17.382169Z",
          "iopub.status.busy": "2024-03-23T13:05:17.381738Z",
          "iopub.status.idle": "2024-03-23T13:05:17.399371Z",
          "shell.execute_reply": "2024-03-23T13:05:17.398043Z",
          "shell.execute_reply.started": "2024-03-23T13:05:17.382131Z"
        },
        "id": "yOjrK0nKbPMh",
        "outputId": "3f3f5093-e859-444a-eff2-806147ce6c29",
        "trusted": true
      },
      "outputs": [
        {
          "data": {
            "text/html": [
              "<div>\n",
              "<style scoped>\n",
              "    .dataframe tbody tr th:only-of-type {\n",
              "        vertical-align: middle;\n",
              "    }\n",
              "\n",
              "    .dataframe tbody tr th {\n",
              "        vertical-align: top;\n",
              "    }\n",
              "\n",
              "    .dataframe thead th {\n",
              "        text-align: right;\n",
              "    }\n",
              "</style>\n",
              "<table border=\"1\" class=\"dataframe\">\n",
              "  <thead>\n",
              "    <tr style=\"text-align: right;\">\n",
              "      <th></th>\n",
              "      <th>comment</th>\n",
              "      <th>label</th>\n",
              "      <th>cleaned_comment</th>\n",
              "    </tr>\n",
              "  </thead>\n",
              "  <tbody>\n",
              "    <tr>\n",
              "      <th>26407</th>\n",
              "      <td>Read \"200 Years Together\" by Solzhenitsyn. It ...</td>\n",
              "      <td>P</td>\n",
              "      <td>read years together by solzhenitsyn it denotes...</td>\n",
              "    </tr>\n",
              "    <tr>\n",
              "      <th>26501</th>\n",
              "      <td>Has this happened to anyone? I just can't put ...</td>\n",
              "      <td>N</td>\n",
              "      <td>has this happened to anyone i just cannot put ...</td>\n",
              "    </tr>\n",
              "    <tr>\n",
              "      <th>4044</th>\n",
              "      <td>what is the point of fucking social distancing?</td>\n",
              "      <td>P</td>\n",
              "      <td>what is the point of fucking social distancing</td>\n",
              "    </tr>\n",
              "    <tr>\n",
              "      <th>16610</th>\n",
              "      <td>We Europeans are winning at football competiti...</td>\n",
              "      <td>P</td>\n",
              "      <td>we europeans are winning at football competiti...</td>\n",
              "    </tr>\n",
              "    <tr>\n",
              "      <th>19033</th>\n",
              "      <td>\"You sir may have come forth from monkeys but ...</td>\n",
              "      <td>N</td>\n",
              "      <td>you sir may have come forth from monkeys but i...</td>\n",
              "    </tr>\n",
              "  </tbody>\n",
              "</table>\n",
              "</div>"
            ],
            "text/plain": [
              "                                                 comment label  \\\n",
              "26407  Read \"200 Years Together\" by Solzhenitsyn. It ...     P   \n",
              "26501  Has this happened to anyone? I just can't put ...     N   \n",
              "4044     what is the point of fucking social distancing?     P   \n",
              "16610  We Europeans are winning at football competiti...     P   \n",
              "19033  \"You sir may have come forth from monkeys but ...     N   \n",
              "\n",
              "                                         cleaned_comment  \n",
              "26407  read years together by solzhenitsyn it denotes...  \n",
              "26501  has this happened to anyone i just cannot put ...  \n",
              "4044      what is the point of fucking social distancing  \n",
              "16610  we europeans are winning at football competiti...  \n",
              "19033  you sir may have come forth from monkeys but i...  "
            ]
          },
          "execution_count": 14,
          "metadata": {},
          "output_type": "execute_result"
        }
      ],
      "source": [
        "df.sample(5)"
      ]
    },
    {
      "cell_type": "code",
      "execution_count": 15,
      "metadata": {
        "colab": {
          "base_uri": "https://localhost:8080/"
        },
        "execution": {
          "iopub.execute_input": "2024-03-23T13:05:17.402278Z",
          "iopub.status.busy": "2024-03-23T13:05:17.401121Z",
          "iopub.status.idle": "2024-03-23T13:05:17.441782Z",
          "shell.execute_reply": "2024-03-23T13:05:17.440255Z",
          "shell.execute_reply.started": "2024-03-23T13:05:17.402219Z"
        },
        "id": "rTnwm25KbPMi",
        "outputId": "7a241297-2b33-40df-e8d1-78c1e6136b36",
        "trusted": true
      },
      "outputs": [
        {
          "name": "stderr",
          "output_type": "stream",
          "text": [
            "[nltk_data] Downloading package stopwords to\n",
            "[nltk_data]     C:\\Users\\suren\\AppData\\Roaming\\nltk_data...\n",
            "[nltk_data]   Package stopwords is already up-to-date!\n"
          ]
        }
      ],
      "source": [
        "nltk.download('stopwords')\n",
        "stops = set(stopwords.words('english'))\n",
        "\n",
        "# Lemmatization is the process of reducing words to their base or root form.\n",
        "lemmatizer = WordNetLemmatizer()\n",
        "\n",
        "# Stemming is the process of reducing words to their stem or root form.\n",
        "ps = PorterStemmer()\n",
        "\n",
        "def get_wordnet_pos(word):\n",
        "\n",
        "    treebank_tag = nltk.pos_tag([word])[0][1]\n",
        "\n",
        "    if treebank_tag.startswith('J'):\n",
        "        return wordnet.ADJ\n",
        "    elif treebank_tag.startswith('V'):\n",
        "        return wordnet.VERB\n",
        "    elif treebank_tag.startswith('N'):\n",
        "        return wordnet.NOUN\n",
        "    elif treebank_tag.startswith('R'):\n",
        "        return wordnet.ADV\n",
        "    else:\n",
        "        return wordnet.NOUN\n",
        "\n",
        "def correct_text(text, stem=False, lemma=False, spell=False):\n",
        "    if lemma and stem:\n",
        "        raise Exception('Either stem or lemma can be true, not both!')\n",
        "        return text\n",
        "\n",
        "    sample = text\n",
        "\n",
        "    #removing stopwords\n",
        "    sample = sample.lower()\n",
        "    sample = [word for word in sample.split() if not word in stops]\n",
        "    sample = ' '.join(sample)\n",
        "\n",
        "    if lemma:\n",
        "        sample = sample.split()\n",
        "        sample = [lemmatizer.lemmatize(word.lower(), get_wordnet_pos(word.lower())) for word in sample]\n",
        "        sample = ' '.join(sample)\n",
        "\n",
        "    if stem:\n",
        "        sample = sample.split()\n",
        "        sample = [ps.stem(word) for word in sample]\n",
        "        sample = ' '.join(sample)\n",
        "\n",
        "    if spell:\n",
        "        sample = str(TextBlob(text).correct())\n",
        "\n",
        "    return sample"
      ]
    },
    {
      "cell_type": "code",
      "execution_count": 16,
      "metadata": {
        "colab": {
          "base_uri": "https://localhost:8080/",
          "height": 423
        },
        "execution": {
          "iopub.execute_input": "2024-03-23T13:05:17.444648Z",
          "iopub.status.busy": "2024-03-23T13:05:17.443813Z",
          "iopub.status.idle": "2024-03-23T13:05:17.46341Z",
          "shell.execute_reply": "2024-03-23T13:05:17.461928Z",
          "shell.execute_reply.started": "2024-03-23T13:05:17.444602Z"
        },
        "id": "oSVtOVWBbPMi",
        "outputId": "de3d96bc-ebb4-4ed8-cdad-971e9f2742c3",
        "trusted": true
      },
      "outputs": [
        {
          "data": {
            "text/html": [
              "<div>\n",
              "<style scoped>\n",
              "    .dataframe tbody tr th:only-of-type {\n",
              "        vertical-align: middle;\n",
              "    }\n",
              "\n",
              "    .dataframe tbody tr th {\n",
              "        vertical-align: top;\n",
              "    }\n",
              "\n",
              "    .dataframe thead th {\n",
              "        text-align: right;\n",
              "    }\n",
              "</style>\n",
              "<table border=\"1\" class=\"dataframe\">\n",
              "  <thead>\n",
              "    <tr style=\"text-align: right;\">\n",
              "      <th></th>\n",
              "      <th>comment</th>\n",
              "      <th>label</th>\n",
              "      <th>cleaned_comment</th>\n",
              "      <th>correct_comment</th>\n",
              "    </tr>\n",
              "  </thead>\n",
              "  <tbody>\n",
              "    <tr>\n",
              "      <th>0</th>\n",
              "      <td>dalits are lowlives</td>\n",
              "      <td>N</td>\n",
              "      <td>dalits are lowlives</td>\n",
              "      <td>text</td>\n",
              "    </tr>\n",
              "    <tr>\n",
              "      <th>1</th>\n",
              "      <td>gay people are a burden to our society</td>\n",
              "      <td>N</td>\n",
              "      <td>gay people are a burden to our society</td>\n",
              "      <td>text</td>\n",
              "    </tr>\n",
              "    <tr>\n",
              "      <th>2</th>\n",
              "      <td>Arabs are not welcome</td>\n",
              "      <td>N</td>\n",
              "      <td>arabs are not welcome</td>\n",
              "      <td>text</td>\n",
              "    </tr>\n",
              "    <tr>\n",
              "      <th>3</th>\n",
              "      <td>I'm not saying we should actually eliminate he...</td>\n",
              "      <td>N</td>\n",
              "      <td>i am not saying we should actually eliminate h...</td>\n",
              "      <td>text</td>\n",
              "    </tr>\n",
              "    <tr>\n",
              "      <th>4</th>\n",
              "      <td>bananas are for black people</td>\n",
              "      <td>N</td>\n",
              "      <td>bananas are for black people</td>\n",
              "      <td>text</td>\n",
              "    </tr>\n",
              "    <tr>\n",
              "      <th>...</th>\n",
              "      <td>...</td>\n",
              "      <td>...</td>\n",
              "      <td>...</td>\n",
              "      <td>...</td>\n",
              "    </tr>\n",
              "    <tr>\n",
              "      <th>41139</th>\n",
              "      <td>Indian culture is so backwards</td>\n",
              "      <td>N</td>\n",
              "      <td>indian culture is so backwards</td>\n",
              "      <td>text</td>\n",
              "    </tr>\n",
              "    <tr>\n",
              "      <th>41140</th>\n",
              "      <td>Women don't want equality, they just want to b...</td>\n",
              "      <td>N</td>\n",
              "      <td>women do not want equality they just want to b...</td>\n",
              "      <td>text</td>\n",
              "    </tr>\n",
              "    <tr>\n",
              "      <th>41141</th>\n",
              "      <td>fuck covid</td>\n",
              "      <td>P</td>\n",
              "      <td>fuck covid</td>\n",
              "      <td>text</td>\n",
              "    </tr>\n",
              "    <tr>\n",
              "      <th>41142</th>\n",
              "      <td>This computer is garbage</td>\n",
              "      <td>P</td>\n",
              "      <td>this computer is garbage</td>\n",
              "      <td>text</td>\n",
              "    </tr>\n",
              "    <tr>\n",
              "      <th>41143</th>\n",
              "      <td>The only good Muslim is a dead one</td>\n",
              "      <td>N</td>\n",
              "      <td>the only good muslim is a dead one</td>\n",
              "      <td>text</td>\n",
              "    </tr>\n",
              "  </tbody>\n",
              "</table>\n",
              "<p>41144 rows × 4 columns</p>\n",
              "</div>"
            ],
            "text/plain": [
              "                                                 comment label  \\\n",
              "0                                    dalits are lowlives     N   \n",
              "1                 gay people are a burden to our society     N   \n",
              "2                                  Arabs are not welcome     N   \n",
              "3      I'm not saying we should actually eliminate he...     N   \n",
              "4                           bananas are for black people     N   \n",
              "...                                                  ...   ...   \n",
              "41139                     Indian culture is so backwards     N   \n",
              "41140  Women don't want equality, they just want to b...     N   \n",
              "41141                                         fuck covid     P   \n",
              "41142                           This computer is garbage     P   \n",
              "41143                 The only good Muslim is a dead one     N   \n",
              "\n",
              "                                         cleaned_comment correct_comment  \n",
              "0                                    dalits are lowlives            text  \n",
              "1                 gay people are a burden to our society            text  \n",
              "2                                  arabs are not welcome            text  \n",
              "3      i am not saying we should actually eliminate h...            text  \n",
              "4                           bananas are for black people            text  \n",
              "...                                                  ...             ...  \n",
              "41139                     indian culture is so backwards            text  \n",
              "41140  women do not want equality they just want to b...            text  \n",
              "41141                                         fuck covid            text  \n",
              "41142                           this computer is garbage            text  \n",
              "41143                 the only good muslim is a dead one            text  \n",
              "\n",
              "[41144 rows x 4 columns]"
            ]
          },
          "execution_count": 16,
          "metadata": {},
          "output_type": "execute_result"
        }
      ],
      "source": [
        "# creating one more column 'correct_comment' and asign only 'text' for reference\n",
        "df['correct_comment'] = 'text'\n",
        "df"
      ]
    },
    {
      "cell_type": "code",
      "execution_count": 17,
      "metadata": {
        "colab": {
          "base_uri": "https://localhost:8080/"
        },
        "execution": {
          "iopub.execute_input": "2024-03-23T13:05:17.469406Z",
          "iopub.status.busy": "2024-03-23T13:05:17.468058Z",
          "iopub.status.idle": "2024-03-23T13:05:18.69693Z",
          "shell.execute_reply": "2024-03-23T13:05:18.694933Z",
          "shell.execute_reply.started": "2024-03-23T13:05:17.469355Z"
        },
        "id": "AP2xTRykbPMj",
        "outputId": "fe6dbf7c-fd0a-4ed9-c57d-328a9a3163ab",
        "trusted": true
      },
      "outputs": [
        {
          "name": "stderr",
          "output_type": "stream",
          "text": [
            "[nltk_data] Downloading package averaged_perceptron_tagger to\n",
            "[nltk_data]     C:\\Users\\suren\\AppData\\Roaming\\nltk_data...\n",
            "[nltk_data]   Package averaged_perceptron_tagger is already up-to-\n",
            "[nltk_data]       date!\n",
            "[nltk_data] Downloading package wordnet to\n",
            "[nltk_data]     C:\\Users\\suren\\AppData\\Roaming\\nltk_data...\n",
            "[nltk_data]   Package wordnet is already up-to-date!\n",
            "100%|██████████| 41144/41144 [06:59<00:00, 98.03it/s] \n"
          ]
        }
      ],
      "source": [
        "nltk.download('averaged_perceptron_tagger')\n",
        "nltk.download('wordnet')\n",
        "count = 0\n",
        "# Iterate through each text in the 'cleaned_comment' column of the DataFrame\n",
        "for text in tqdm(df['cleaned_comment']):\n",
        "    # Apply the correct_text function with lemma set to True\n",
        "    df['correct_comment'][count] = correct_text(text, lemma=True)\n",
        "    # Increment the count variable\n",
        "    count += 1"
      ]
    },
    {
      "cell_type": "code",
      "execution_count": 18,
      "metadata": {
        "colab": {
          "base_uri": "https://localhost:8080/",
          "height": 363
        },
        "id": "dvarywKJbPMj",
        "outputId": "b1b20022-8d5e-45ed-f64a-2560ae1f137a"
      },
      "outputs": [
        {
          "data": {
            "text/html": [
              "<div>\n",
              "<style scoped>\n",
              "    .dataframe tbody tr th:only-of-type {\n",
              "        vertical-align: middle;\n",
              "    }\n",
              "\n",
              "    .dataframe tbody tr th {\n",
              "        vertical-align: top;\n",
              "    }\n",
              "\n",
              "    .dataframe thead th {\n",
              "        text-align: right;\n",
              "    }\n",
              "</style>\n",
              "<table border=\"1\" class=\"dataframe\">\n",
              "  <thead>\n",
              "    <tr style=\"text-align: right;\">\n",
              "      <th></th>\n",
              "      <th>comment</th>\n",
              "      <th>label</th>\n",
              "      <th>cleaned_comment</th>\n",
              "      <th>correct_comment</th>\n",
              "    </tr>\n",
              "  </thead>\n",
              "  <tbody>\n",
              "    <tr>\n",
              "      <th>15748</th>\n",
              "      <td>The one single word to describe Sadiq Khan is ...</td>\n",
              "      <td>P</td>\n",
              "      <td>the one single word to describe sadiq khan is ...</td>\n",
              "      <td>one single word describe sadiq khan cunt deriv...</td>\n",
              "    </tr>\n",
              "    <tr>\n",
              "      <th>40141</th>\n",
              "      <td>Comments such as \u001cwomen are disgusting\u001d should...</td>\n",
              "      <td>P</td>\n",
              "      <td>comments such as women are disgusting should b...</td>\n",
              "      <td>comment woman disgust ban forum</td>\n",
              "    </tr>\n",
              "    <tr>\n",
              "      <th>34975</th>\n",
              "      <td>men are superior to women in every way, especi...</td>\n",
              "      <td>N</td>\n",
              "      <td>men are superior to women in every way especia...</td>\n",
              "      <td>men superior woman every way especially streng...</td>\n",
              "    </tr>\n",
              "    <tr>\n",
              "      <th>12868</th>\n",
              "      <td>lmao their marriages are by far the least stab...</td>\n",
              "      <td>P</td>\n",
              "      <td>lmao their marriages are by far the least stab...</td>\n",
              "      <td>lmao marriage far least stable marriage lag wa...</td>\n",
              "    </tr>\n",
              "    <tr>\n",
              "      <th>37938</th>\n",
              "      <td>Muslims are lower than rats</td>\n",
              "      <td>N</td>\n",
              "      <td>muslims are lower than rats</td>\n",
              "      <td>muslim low rat</td>\n",
              "    </tr>\n",
              "    <tr>\n",
              "      <th>2094</th>\n",
              "      <td>I wish those dumbarses would get whats coming ...</td>\n",
              "      <td>P</td>\n",
              "      <td>i wish those dumbarses would get what is comin...</td>\n",
              "      <td>wish dumbarses would get come would like help</td>\n",
              "    </tr>\n",
              "    <tr>\n",
              "      <th>40686</th>\n",
              "      <td>muslims cannot be trusted</td>\n",
              "      <td>N</td>\n",
              "      <td>muslims cannot be trusted</td>\n",
              "      <td>muslim cannot trust</td>\n",
              "    </tr>\n",
              "    <tr>\n",
              "      <th>14343</th>\n",
              "      <td>Why don't Max just stay in the kitchen?</td>\n",
              "      <td>P</td>\n",
              "      <td>why do not max just stay in the kitchen</td>\n",
              "      <td>max stay kitchen</td>\n",
              "    </tr>\n",
              "    <tr>\n",
              "      <th>30033</th>\n",
              "      <td>An EU review of violence against women reveale...</td>\n",
              "      <td>P</td>\n",
              "      <td>an eu review of violence against women reveale...</td>\n",
              "      <td>eu review violence woman reveal one three euro...</td>\n",
              "    </tr>\n",
              "    <tr>\n",
              "      <th>10170</th>\n",
              "      <td>Emma Watson really tried to promote equality f...</td>\n",
              "      <td>N</td>\n",
              "      <td>emma watson really tried to promote equality f...</td>\n",
              "      <td>emma watson really try promote equality heshes...</td>\n",
              "    </tr>\n",
              "  </tbody>\n",
              "</table>\n",
              "</div>"
            ],
            "text/plain": [
              "                                                 comment label  \\\n",
              "15748  The one single word to describe Sadiq Khan is ...     P   \n",
              "40141  Comments such as \n",
              "women are disgusting\n",
              " should...     P   \n",
              "34975  men are superior to women in every way, especi...     N   \n",
              "12868  lmao their marriages are by far the least stab...     P   \n",
              "37938                        Muslims are lower than rats     N   \n",
              "2094   I wish those dumbarses would get whats coming ...     P   \n",
              "40686                          muslims cannot be trusted     N   \n",
              "14343            Why don't Max just stay in the kitchen?     P   \n",
              "30033  An EU review of violence against women reveale...     P   \n",
              "10170  Emma Watson really tried to promote equality f...     N   \n",
              "\n",
              "                                         cleaned_comment  \\\n",
              "15748  the one single word to describe sadiq khan is ...   \n",
              "40141  comments such as women are disgusting should b...   \n",
              "34975  men are superior to women in every way especia...   \n",
              "12868  lmao their marriages are by far the least stab...   \n",
              "37938                        muslims are lower than rats   \n",
              "2094   i wish those dumbarses would get what is comin...   \n",
              "40686                          muslims cannot be trusted   \n",
              "14343            why do not max just stay in the kitchen   \n",
              "30033  an eu review of violence against women reveale...   \n",
              "10170  emma watson really tried to promote equality f...   \n",
              "\n",
              "                                         correct_comment  \n",
              "15748  one single word describe sadiq khan cunt deriv...  \n",
              "40141                    comment woman disgust ban forum  \n",
              "34975  men superior woman every way especially streng...  \n",
              "12868  lmao marriage far least stable marriage lag wa...  \n",
              "37938                                     muslim low rat  \n",
              "2094       wish dumbarses would get come would like help  \n",
              "40686                                muslim cannot trust  \n",
              "14343                                   max stay kitchen  \n",
              "30033  eu review violence woman reveal one three euro...  \n",
              "10170  emma watson really try promote equality heshes...  "
            ]
          },
          "execution_count": 18,
          "metadata": {},
          "output_type": "execute_result"
        }
      ],
      "source": [
        "# display random 10 rows\n",
        "df.sample(10)"
      ]
    },
    {
      "cell_type": "code",
      "execution_count": 19,
      "metadata": {
        "id": "2Fe7lXvdcy-F"
      },
      "outputs": [],
      "source": [
        "# drop the comment and cleaned_comment columns for df_final dataset\n",
        "df_final = df.drop(columns = ['comment', 'cleaned_comment'], axis=1)"
      ]
    },
    {
      "cell_type": "code",
      "execution_count": 20,
      "metadata": {
        "colab": {
          "base_uri": "https://localhost:8080/",
          "height": 206
        },
        "id": "Q6gM_RprdK3g",
        "outputId": "426d52fc-3158-4394-9cf4-cbd7dc80de73"
      },
      "outputs": [
        {
          "data": {
            "text/html": [
              "<div>\n",
              "<style scoped>\n",
              "    .dataframe tbody tr th:only-of-type {\n",
              "        vertical-align: middle;\n",
              "    }\n",
              "\n",
              "    .dataframe tbody tr th {\n",
              "        vertical-align: top;\n",
              "    }\n",
              "\n",
              "    .dataframe thead th {\n",
              "        text-align: right;\n",
              "    }\n",
              "</style>\n",
              "<table border=\"1\" class=\"dataframe\">\n",
              "  <thead>\n",
              "    <tr style=\"text-align: right;\">\n",
              "      <th></th>\n",
              "      <th>label</th>\n",
              "      <th>correct_comment</th>\n",
              "    </tr>\n",
              "  </thead>\n",
              "  <tbody>\n",
              "    <tr>\n",
              "      <th>12487</th>\n",
              "      <td>P</td>\n",
              "      <td>everytime see peedo treat like shit cough bitc...</td>\n",
              "    </tr>\n",
              "    <tr>\n",
              "      <th>39336</th>\n",
              "      <td>N</td>\n",
              "      <td>want join cult christian</td>\n",
              "    </tr>\n",
              "    <tr>\n",
              "      <th>2625</th>\n",
              "      <td>N</td>\n",
              "      <td>kanye west give u pas n ggas paris say anyway</td>\n",
              "    </tr>\n",
              "    <tr>\n",
              "      <th>36363</th>\n",
              "      <td>P</td>\n",
              "      <td>n people</td>\n",
              "    </tr>\n",
              "    <tr>\n",
              "      <th>9248</th>\n",
              "      <td>P</td>\n",
              "      <td>tell twat jagoffs</td>\n",
              "    </tr>\n",
              "  </tbody>\n",
              "</table>\n",
              "</div>"
            ],
            "text/plain": [
              "      label                                    correct_comment\n",
              "12487     P  everytime see peedo treat like shit cough bitc...\n",
              "39336     N                           want join cult christian\n",
              "2625      N      kanye west give u pas n ggas paris say anyway\n",
              "36363     P                                           n people\n",
              "9248      P                                  tell twat jagoffs"
            ]
          },
          "execution_count": 20,
          "metadata": {},
          "output_type": "execute_result"
        }
      ],
      "source": [
        "df_final.sample(5)"
      ]
    },
    {
      "cell_type": "code",
      "execution_count": 23,
      "metadata": {
        "id": "eh108PJgdOi_"
      },
      "outputs": [],
      "source": [
        "# save the clean data into hate_cleaned.csv\n",
        "df_final.to_csv(r\"C:\\Users\\suren\\Downloads\\NLP for Sentiment Analysis\\Dataset\\hate_cleaned.csv\", index=False)"
      ]
    },
    {
      "cell_type": "code",
      "execution_count": 24,
      "metadata": {
        "colab": {
          "base_uri": "https://localhost:8080/"
        },
        "id": "ubT7nBdpde7M",
        "outputId": "9ddb7c6f-79dc-4dcb-f355-44a89cb64605"
      },
      "outputs": [
        {
          "data": {
            "text/plain": [
              "(41144, 2)"
            ]
          },
          "execution_count": 24,
          "metadata": {},
          "output_type": "execute_result"
        }
      ],
      "source": [
        "df_final.shape"
      ]
    },
    {
      "cell_type": "code",
      "execution_count": 25,
      "metadata": {
        "id": "evtEnJpdeCUq"
      },
      "outputs": [],
      "source": [
        "# changing the targert label value in integer label\n",
        "label_mapping = {'N': 0, 'P': 1, 'O': 2}\n",
        "\n",
        "df_final['label'] = df_final['label'].replace(label_mapping)"
      ]
    },
    {
      "cell_type": "code",
      "execution_count": 26,
      "metadata": {
        "colab": {
          "base_uri": "https://localhost:8080/",
          "height": 206
        },
        "id": "qFsR-NW_fUZ6",
        "outputId": "646c04b6-dcde-460b-f911-ea87b12e455a"
      },
      "outputs": [
        {
          "data": {
            "text/html": [
              "<div>\n",
              "<style scoped>\n",
              "    .dataframe tbody tr th:only-of-type {\n",
              "        vertical-align: middle;\n",
              "    }\n",
              "\n",
              "    .dataframe tbody tr th {\n",
              "        vertical-align: top;\n",
              "    }\n",
              "\n",
              "    .dataframe thead th {\n",
              "        text-align: right;\n",
              "    }\n",
              "</style>\n",
              "<table border=\"1\" class=\"dataframe\">\n",
              "  <thead>\n",
              "    <tr style=\"text-align: right;\">\n",
              "      <th></th>\n",
              "      <th>label</th>\n",
              "      <th>correct_comment</th>\n",
              "    </tr>\n",
              "  </thead>\n",
              "  <tbody>\n",
              "    <tr>\n",
              "      <th>34742</th>\n",
              "      <td>0</td>\n",
              "      <td>mozzies live another century</td>\n",
              "    </tr>\n",
              "    <tr>\n",
              "      <th>29760</th>\n",
              "      <td>1</td>\n",
              "      <td>time blame colonialism displace every poor exp...</td>\n",
              "    </tr>\n",
              "    <tr>\n",
              "      <th>3407</th>\n",
              "      <td>0</td>\n",
              "      <td>recognise refugee dismissive attitude</td>\n",
              "    </tr>\n",
              "    <tr>\n",
              "      <th>7811</th>\n",
              "      <td>1</td>\n",
              "      <td>must hard every fuck day asylum seeker</td>\n",
              "    </tr>\n",
              "    <tr>\n",
              "      <th>32901</th>\n",
              "      <td>0</td>\n",
              "      <td>still discus jew condemn thought action withou...</td>\n",
              "    </tr>\n",
              "  </tbody>\n",
              "</table>\n",
              "</div>"
            ],
            "text/plain": [
              "       label                                    correct_comment\n",
              "34742      0                       mozzies live another century\n",
              "29760      1  time blame colonialism displace every poor exp...\n",
              "3407       0              recognise refugee dismissive attitude\n",
              "7811       1             must hard every fuck day asylum seeker\n",
              "32901      0  still discus jew condemn thought action withou..."
            ]
          },
          "execution_count": 26,
          "metadata": {},
          "output_type": "execute_result"
        }
      ],
      "source": [
        "df_final.sample(5)"
      ]
    },
    {
      "cell_type": "code",
      "execution_count": 27,
      "metadata": {
        "colab": {
          "base_uri": "https://localhost:8080/"
        },
        "id": "duSGFdejffvQ",
        "outputId": "25b668e0-97cd-4a3d-e873-0ea491679acf"
      },
      "outputs": [
        {
          "data": {
            "text/plain": [
              "array([0, 1, 2], dtype=int64)"
            ]
          },
          "execution_count": 27,
          "metadata": {},
          "output_type": "execute_result"
        }
      ],
      "source": [
        "# unique vlaues in label column After changing label from dataset label column\n",
        "df_final['label'].unique()"
      ]
    },
    {
      "cell_type": "markdown",
      "metadata": {
        "id": "GOgrSY8pfszr"
      },
      "source": [
        "## Model Eveluation"
      ]
    },
    {
      "cell_type": "code",
      "execution_count": 28,
      "metadata": {
        "id": "h5_GFcjtflsh"
      },
      "outputs": [],
      "source": [
        "# distribute the target and feature column in X, y\n",
        "X = df_final['correct_comment']\n",
        "y = df_final['label']"
      ]
    },
    {
      "cell_type": "code",
      "execution_count": 29,
      "metadata": {
        "id": "3NJt6z5kf-uy"
      },
      "outputs": [],
      "source": [
        "# Split the data into train and test data\n",
        "X_train, X_test, y_train, y_test = train_test_split(X, y, test_size=0.3, random_state=30)"
      ]
    },
    {
      "cell_type": "code",
      "execution_count": 32,
      "metadata": {
        "id": "dxHSibvUgNAI"
      },
      "outputs": [],
      "source": [
        "feature_extraction = TfidfVectorizer()\n",
        "\n",
        "X_train_features = feature_extraction.fit_transform(X_train)\n",
        "X_test_features  = feature_extraction.transform(X_test)\n",
        "\n",
        "# converting y_train and y_test values as integers\n",
        "y_train = y_train.astype('int')\n",
        "y_test = y_test.astype('int')"
      ]
    },
    {
      "cell_type": "code",
      "execution_count": 33,
      "metadata": {
        "id": "Jry09lhag1eg"
      },
      "outputs": [],
      "source": [
        "logisticRegressionModel = LogisticRegression()"
      ]
    },
    {
      "cell_type": "code",
      "execution_count": 34,
      "metadata": {
        "id": "-baxfswxhGr9"
      },
      "outputs": [],
      "source": [
        "logisticRegressionModel.fit(X_train_features, y_train)\n",
        "prediction_on_training_data = logisticRegressionModel.predict(X_train_features)\n",
        "accuracy_on_training_data = accuracy_score(y_train, prediction_on_training_data)"
      ]
    },
    {
      "cell_type": "code",
      "execution_count": 35,
      "metadata": {
        "colab": {
          "base_uri": "https://localhost:8080/"
        },
        "id": "rxHRw9pOhMFV",
        "outputId": "f07f05b2-e535-4465-889e-c70dd514866e"
      },
      "outputs": [
        {
          "name": "stdout",
          "output_type": "stream",
          "text": [
            "Training Accuracy score:  79.19791666666667\n"
          ]
        }
      ],
      "source": [
        "print(\"Training Accuracy score: \", accuracy_on_training_data*100)"
      ]
    },
    {
      "cell_type": "code",
      "execution_count": 36,
      "metadata": {
        "id": "RcUZgCX5_uJR"
      },
      "outputs": [],
      "source": [
        "logisticRegressionModel.fit(X_test_features, y_test)\n",
        "prediction_on_test_data = logisticRegressionModel.predict(X_test_features)\n",
        "accuracy_on_test_data = accuracy_score(y_test, prediction_on_test_data)"
      ]
    },
    {
      "cell_type": "code",
      "execution_count": 37,
      "metadata": {
        "colab": {
          "base_uri": "https://localhost:8080/"
        },
        "id": "ZAynsIxLAEU4",
        "outputId": "19d7c6ed-eed9-49cc-dcdd-f69093aa675f"
      },
      "outputs": [
        {
          "name": "stdout",
          "output_type": "stream",
          "text": [
            "Test Accuracy score:  79.19791666666667\n"
          ]
        }
      ],
      "source": [
        "print(\"Test Accuracy score: \", accuracy_on_training_data*100)"
      ]
    },
    {
      "cell_type": "code",
      "execution_count": 38,
      "metadata": {
        "colab": {
          "base_uri": "https://localhost:8080/"
        },
        "id": "O7U--DE9haMa",
        "outputId": "b7059db1-fcd6-430f-e095-2c6e71b95e40"
      },
      "outputs": [
        {
          "data": {
            "text/plain": [
              "40554          nothing love see horrible black get oppress\n",
              "6580                          arepas one reason world suck\n",
              "10304    many people cannot stand united kingdom exampl...\n",
              "14542    tough dude girlfriend switch lot sex even ente...\n",
              "11764    next big bout take place see go win fight many...\n",
              "                               ...                        \n",
              "20357    tranny transphobic slur use demean insult tran...\n",
              "41123                                   would trust indian\n",
              "19467                                                 iran\n",
              "23495                                think zionist scammer\n",
              "6408                            fuck leeds ruin everything\n",
              "Name: correct_comment, Length: 12344, dtype: object"
            ]
          },
          "execution_count": 38,
          "metadata": {},
          "output_type": "execute_result"
        }
      ],
      "source": [
        "X_test"
      ]
    },
    {
      "cell_type": "code",
      "execution_count": 39,
      "metadata": {
        "colab": {
          "base_uri": "https://localhost:8080/"
        },
        "id": "hSECjsdGiW-F",
        "outputId": "4c750253-4f61-4e9e-b88d-50bcd3a38542"
      },
      "outputs": [
        {
          "data": {
            "text/plain": [
              "40554    0\n",
              "6580     1\n",
              "10304    1\n",
              "14542    0\n",
              "11764    0\n",
              "        ..\n",
              "20357    1\n",
              "41123    0\n",
              "19467    0\n",
              "23495    0\n",
              "6408     1\n",
              "Name: label, Length: 12344, dtype: int32"
            ]
          },
          "execution_count": 39,
          "metadata": {},
          "output_type": "execute_result"
        }
      ],
      "source": [
        "y_test"
      ]
    },
    {
      "cell_type": "code",
      "execution_count": 40,
      "metadata": {
        "colab": {
          "base_uri": "https://localhost:8080/"
        },
        "id": "yQmDp3g0iZSV",
        "outputId": "b01cdcf3-4d3f-4636-cfd6-261f4e5d695b"
      },
      "outputs": [
        {
          "name": "stdout",
          "output_type": "stream",
          "text": [
            "[1]\n",
            "Positive Sentiment\n"
          ]
        }
      ],
      "source": [
        "# testing manualy\n",
        "input_mail = [\"arepas one reason world suck\"]\n",
        "\n",
        "# converting text into feature vectore\n",
        "input_data_features = feature_extraction.transform(input_mail)\n",
        "\n",
        "prediction = logisticRegressionModel.predict(input_data_features)\n",
        "print(prediction)\n",
        "\n",
        "if prediction[0] == 0:\n",
        "  print(\"Negative Sentiment\")\n",
        "elif prediction[0] == 1:\n",
        "  print(\"Positive Sentiment\")\n",
        "else:\n",
        "  print(\"Neutral Sentiment\")"
      ]
    },
    {
      "cell_type": "code",
      "execution_count": 60,
      "metadata": {
        "colab": {
          "base_uri": "https://localhost:8080/"
        },
        "id": "ZP1G5AIX7yxf",
        "outputId": "213ecf81-4bbd-4f21-f81a-469505c6a7e1"
      },
      "outputs": [
        {
          "data": {
            "text/plain": [
              "['logisticRegModel.joblib']"
            ]
          },
          "execution_count": 60,
          "metadata": {},
          "output_type": "execute_result"
        }
      ],
      "source": [
        "# Saving the model\n",
        "joblib.dump(logisticRegressionModel, \"logisticRegModel.joblib\")"
      ]
    },
    {
      "cell_type": "code",
      "execution_count": 41,
      "metadata": {
        "id": "3_9b7DT-JXM8"
      },
      "outputs": [
        {
          "data": {
            "text/plain": [
              "['tfidf_vectorizer.joblib']"
            ]
          },
          "execution_count": 41,
          "metadata": {},
          "output_type": "execute_result"
        }
      ],
      "source": [
        "joblib.dump(feature_extraction, \"tfidf_vectorizer.joblib\")"
      ]
    },
    {
      "cell_type": "code",
      "execution_count": null,
      "metadata": {},
      "outputs": [],
      "source": []
    }
  ],
  "metadata": {
    "colab": {
      "provenance": []
    },
    "kaggle": {
      "accelerator": "none",
      "dataSources": [
        {
          "datasetId": 4654687,
          "sourceId": 7920870,
          "sourceType": "datasetVersion"
        }
      ],
      "dockerImageVersionId": 30673,
      "isGpuEnabled": false,
      "isInternetEnabled": true,
      "language": "python",
      "sourceType": "notebook"
    },
    "kernelspec": {
      "display_name": "Python 3",
      "language": "python",
      "name": "python3"
    },
    "language_info": {
      "codemirror_mode": {
        "name": "ipython",
        "version": 3
      },
      "file_extension": ".py",
      "mimetype": "text/x-python",
      "name": "python",
      "nbconvert_exporter": "python",
      "pygments_lexer": "ipython3",
      "version": "3.11.1"
    }
  },
  "nbformat": 4,
  "nbformat_minor": 0
}
